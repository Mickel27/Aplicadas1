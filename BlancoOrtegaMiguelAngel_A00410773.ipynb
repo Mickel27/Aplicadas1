{
  "nbformat": 4,
  "nbformat_minor": 0,
  "metadata": {
    "colab": {
      "provenance": [],
      "authorship_tag": "ABX9TyNgtkr932XdpfcMSlJb+Ph2",
      "include_colab_link": true
    },
    "kernelspec": {
      "name": "python3",
      "display_name": "Python 3"
    },
    "language_info": {
      "name": "python"
    }
  },
  "cells": [
    {
      "cell_type": "markdown",
      "metadata": {
        "id": "view-in-github",
        "colab_type": "text"
      },
      "source": [
        "<a href=\"https://colab.research.google.com/github/Mickel27/Aplicadas1/blob/main/BlancoOrtegaMiguelAngel_A00410773.ipynb\" target=\"_parent\"><img src=\"https://colab.research.google.com/assets/colab-badge.svg\" alt=\"Open In Colab\"/></a>"
      ]
    },
    {
      "cell_type": "markdown",
      "source": [
        "Hola, mi nombre es **Miguel Angel**, tengo 17 años y estudio ingeniería de sistemas (segundo semestre). Nací en cali el 11 de Marzo del 2007 y estudié toda mi vida en el colegio Berchmans. Me gusta ir al gimnasio y tocar guitarra.\n",
        "Entré a esta carrera porque en el colegio siempre me ha ido bien con la programación y me parece que es una carrera muy util con la que puedo realizar aportes relevantes a las personas.\n",
        "Entré a la Icesi porque es una universidad con muy buen estatus para ser relativamente nueva, lo que me dio una muy buena idea de su calidad educativa. Además, tenía el mejor plan de estudios y certificaciones comparado con otras opciones."
      ],
      "metadata": {
        "id": "QDt69rm-8FXf"
      }
    },
    {
      "cell_type": "markdown",
      "source": [],
      "metadata": {
        "id": "MEizVljO8qHg"
      }
    },
    {
      "cell_type": "markdown",
      "source": [
        "<img src='https://musicbox.com.co/wp-content/uploads/2022/06/6001593-Guitarra-electrica-stratocaster-I60-LAST-32-Rojo-A.jpg'>"
      ],
      "metadata": {
        "id": "kpwAL0u-8zFo"
      }
    },
    {
      "cell_type": "markdown",
      "source": [
        "\n",
        "1. En To Lao\n",
        ">Autor: JHAYCO\n",
        ">Producción: Haze\n",
        "2. Kobe en LA 2.0\n",
        ">Autor: JHAYCO\n",
        ">producción: Josh Gudwin, Misael De La Cruz y Bass Charity\n",
        "3. ASTROTHUNDER\n",
        ">Autor: Travis Scott\n",
        ">Producción: Travis Scott, John Mayer, Frank Dukes, Thundercat.\n",
        "4.FANTASMA | AVC\n",
        ">Autor: JHAYCO\n",
        ">Producción: Tainy\n",
        "5.Solo\n",
        ">Autor: Frank Ocean\n",
        ">Producción: Frank Ocean & James Blake"
      ],
      "metadata": {
        "id": "f8Djp27x-VF3"
      }
    },
    {
      "cell_type": "markdown",
      "source": [
        "|asignarura|razón|\n",
        "|----------|-----|\n",
        "|Algoritmos y Programación 1|En esta materia estoy aprendiendo Java, lenguaje de programaciónque me parece muy util por todas sus aplicaciones en diferentes ambitos.|\n",
        "|Matemáticas Aplicadas|Me parece muy util (valga la redundancia) el aprender a aplicar y usar las matematicas en mi carrera, pues puedo poner en practica todo lo que he aprendido por varios años.|\n",
        "|Ingeniería de software|De las pocas clases que he aprendido lo mucho que hay para ver en la carrera aparte de aprender lenguajes de programación.|"
      ],
      "metadata": {
        "id": "2PwSqo1HA91q"
      }
    }
  ]
}